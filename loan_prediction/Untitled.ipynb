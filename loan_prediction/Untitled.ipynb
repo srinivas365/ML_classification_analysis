{
 "cells": [
  {
   "cell_type": "code",
   "execution_count": 219,
   "metadata": {},
   "outputs": [],
   "source": [
    "import pandas as pd\n",
    "import numpy as np"
   ]
  },
  {
   "cell_type": "code",
   "execution_count": 220,
   "metadata": {},
   "outputs": [],
   "source": [
    "from sklearn.model_selection import train_test_split\n",
    "from sklearn.naive_bayes import GaussianNB\n",
    "from sklearn.metrics import confusion_matrix,accuracy_score"
   ]
  },
  {
   "cell_type": "code",
   "execution_count": 221,
   "metadata": {},
   "outputs": [],
   "source": [
    "dataset=pd.read_csv('train.csv')"
   ]
  },
  {
   "cell_type": "code",
   "execution_count": null,
   "metadata": {},
   "outputs": [],
   "source": []
  },
  {
   "cell_type": "code",
   "execution_count": null,
   "metadata": {},
   "outputs": [],
   "source": []
  },
  {
   "cell_type": "code",
   "execution_count": 222,
   "metadata": {},
   "outputs": [],
   "source": [
    "replace_dep={'3+':'3'}\n",
    "dataset['Dependents'].replace(replace_dep,inplace=True)\n",
    "dataset['Dependents'].fillna('Unknown',inplace=True)\n",
    "dataset['Self_Employed'].fillna('Unknown',inplace=True)\n",
    "dataset['LoanAmount'].fillna(dataset['LoanAmount'].mean(),inplace=True)\n",
    "dataset['Loan_Amount_Term'].fillna(dataset['LoanAmount'].mean(),inplace=True)\n",
    "dataset['Credit_History'].fillna('Unknown',inplace=True)\n",
    "dataset['Married'].fillna('Unknown',inplace=True)\n",
    "dataset['Gender'].fillna('Unknown',inplace=True)\n"
   ]
  },
  {
   "cell_type": "code",
   "execution_count": 223,
   "metadata": {},
   "outputs": [],
   "source": [
    "dataset.drop('Loan_ID',axis=1,inplace=True)\n",
    "cols=['Gender','Married','Dependents','Education','Self_Employed','Credit_History','Property_Area']\n",
    "train=pd.get_dummies(dataset,columns=cols)"
   ]
  },
  {
   "cell_type": "code",
   "execution_count": 224,
   "metadata": {},
   "outputs": [],
   "source": [
    "x=train.drop('Loan_Status',axis=1)\n",
    "y=train.Loan_Status\n",
    "x_train,x_test,y_train,y_test=train_test_split(x,y,test_size=0.3,random_state=0)"
   ]
  },
  {
   "cell_type": "code",
   "execution_count": 225,
   "metadata": {},
   "outputs": [],
   "source": [
    "model=GaussianNB()\n",
    "model.fit(x_train,y_train)\n",
    "y_pred=model.predict(x_test)"
   ]
  },
  {
   "cell_type": "code",
   "execution_count": 226,
   "metadata": {},
   "outputs": [
    {
     "name": "stdout",
     "output_type": "stream",
     "text": [
      "[[ 23  28]\n",
      " [  5 129]] 0.8216216216216217\n"
     ]
    }
   ],
   "source": [
    "cm=confusion_matrix(y_test,y_pred)\n",
    "ass=accuracy_score(y_pred,y_test)\n",
    "print(cm,ass)"
   ]
  },
  {
   "cell_type": "code",
   "execution_count": 227,
   "metadata": {},
   "outputs": [],
   "source": [
    "datatest=pd.read_csv('test.csv')"
   ]
  },
  {
   "cell_type": "code",
   "execution_count": null,
   "metadata": {},
   "outputs": [],
   "source": []
  },
  {
   "cell_type": "code",
   "execution_count": null,
   "metadata": {},
   "outputs": [],
   "source": []
  },
  {
   "cell_type": "code",
   "execution_count": 228,
   "metadata": {},
   "outputs": [],
   "source": [
    "replace_dep={'3+':'3'}\n",
    "datatest['Dependents'].replace(replace_dep,inplace=True)\n",
    "datatest['Dependents'].fillna('Unknown',inplace=True)\n",
    "datatest['Self_Employed'].fillna('Unknown',inplace=True)\n",
    "datatest['LoanAmount'].fillna(dataset['LoanAmount'].mean(),inplace=True)\n",
    "datatest['Loan_Amount_Term'].fillna(dataset['LoanAmount'].mean(),inplace=True)\n",
    "datatest['Credit_History'].fillna('Unknown',inplace=True)\n",
    "datatest['Married'].fillna('Unknown',inplace=True)\n",
    "datatest['Gender'].fillna('Unknown',inplace=True)"
   ]
  },
  {
   "cell_type": "code",
   "execution_count": 229,
   "metadata": {},
   "outputs": [],
   "source": [
    "submit=datatest['Loan_ID']\n",
    "datatest.drop('Loan_ID',axis=1,inplace=True)\n",
    "cols=['Gender','Married','Dependents','Education','Self_Employed','Credit_History','Property_Area']\n",
    "test_set=pd.get_dummies(datatest,columns=cols)"
   ]
  },
  {
   "cell_type": "code",
   "execution_count": null,
   "metadata": {},
   "outputs": [],
   "source": []
  },
  {
   "cell_type": "code",
   "execution_count": null,
   "metadata": {},
   "outputs": [],
   "source": []
  },
  {
   "cell_type": "code",
   "execution_count": null,
   "metadata": {},
   "outputs": [],
   "source": []
  },
  {
   "cell_type": "code",
   "execution_count": null,
   "metadata": {},
   "outputs": [],
   "source": []
  },
  {
   "cell_type": "code",
   "execution_count": 230,
   "metadata": {},
   "outputs": [],
   "source": [
    "test_set['Married_Unknown']=0"
   ]
  },
  {
   "cell_type": "code",
   "execution_count": 231,
   "metadata": {},
   "outputs": [],
   "source": [
    "test_pred=model.predict(test_set)"
   ]
  },
  {
   "cell_type": "code",
   "execution_count": null,
   "metadata": {},
   "outputs": [],
   "source": []
  },
  {
   "cell_type": "code",
   "execution_count": null,
   "metadata": {},
   "outputs": [],
   "source": []
  },
  {
   "cell_type": "code",
   "execution_count": null,
   "metadata": {},
   "outputs": [],
   "source": []
  },
  {
   "cell_type": "code",
   "execution_count": 232,
   "metadata": {},
   "outputs": [],
   "source": [
    "preds = pd.Series(test_pred)\n",
    "submit = pd.concat([submit, preds], names=['Loan_ID', 'Loan_Status'], axis=1)\n",
    "submit.columns = ['Loan_ID', 'Loan_Status']"
   ]
  },
  {
   "cell_type": "code",
   "execution_count": null,
   "metadata": {},
   "outputs": [],
   "source": []
  },
  {
   "cell_type": "code",
   "execution_count": 233,
   "metadata": {},
   "outputs": [],
   "source": [
    "submit.to_csv('loan1.csv',index=False)"
   ]
  },
  {
   "cell_type": "code",
   "execution_count": null,
   "metadata": {},
   "outputs": [],
   "source": []
  }
 ],
 "metadata": {
  "kernelspec": {
   "display_name": "Python [conda env:anaconda3]",
   "language": "python",
   "name": "conda-env-anaconda3-py"
  },
  "language_info": {
   "codemirror_mode": {
    "name": "ipython",
    "version": 3
   },
   "file_extension": ".py",
   "mimetype": "text/x-python",
   "name": "python",
   "nbconvert_exporter": "python",
   "pygments_lexer": "ipython3",
   "version": "3.5.2"
  }
 },
 "nbformat": 4,
 "nbformat_minor": 2
}
